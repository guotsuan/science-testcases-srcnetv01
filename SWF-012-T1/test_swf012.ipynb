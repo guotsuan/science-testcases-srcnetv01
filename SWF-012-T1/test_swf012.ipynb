{
 "cells": [
  {
   "cell_type": "markdown",
   "id": "fe00af23",
   "metadata": {},
   "source": [
    "# SWF012-T1 test: Image cube inspection"
   ]
  },
  {
   "cell_type": "markdown",
   "id": "5c2ddad2",
   "metadata": {},
   "source": [
    "This notebook is an example of the test case for SWF-012. The test is described in more details at https://confluence.skatelescope.org/pages/viewpage.action?pageId=319991468 and aims at evaluating the SRCNet v0.1 pipeline's ability to inspect image cubes and do some simple operations on them such as computing statistics, generating histograms, zoom on some regions, perform 2D Gaussian fitting. The test case is divided in sub-cases, corresponding to each aforementioned task.\n",
    "\n",
    "\n",
    "Note that the datasets used in this notebook must be downloaded at the following link: https://www.dropbox.com/sh/22cbwyy8hv7h4fq/AACx6cTQ1SN8ldmcu6P4Fj9ua?dl=0 (10GB)."
   ]
  },
  {
   "cell_type": "code",
   "execution_count": 1,
   "id": "9da9d480",
   "metadata": {
    "ExecuteTime": {
     "end_time": "2023-01-26T19:51:08.664363Z",
     "start_time": "2023-01-26T19:51:08.659297Z"
    }
   },
   "outputs": [],
   "source": [
    "# import required packages\n",
    "import numpy as np\n",
    "import warnings\n",
    "import time\n",
    "import os\n",
    "import matplotlib.pyplot as plt\n",
    "from matplotlib import colors\n",
    "import scipy.ndimage\n",
    "from astropy.io import fits\n",
    "from astropy import units, constants\n",
    "from astropy.wcs import WCS\n",
    "from astropy.visualization import simple_norm\n",
    "from astropy.convolution import convolve, convolve_fft, Gaussian2DKernel\n",
    "from astropy.modeling.models import Gaussian2D\n",
    "from astropy.wcs.utils import proj_plane_pixel_scales\n",
    "from astropy.nddata.utils import Cutout2D\n",
    "from astropy.wcs.utils import pixel_to_skycoord"
   ]
  },
  {
   "cell_type": "code",
   "execution_count": 3,
   "id": "50cc637c",
   "metadata": {
    "ExecuteTime": {
     "end_time": "2023-01-26T19:51:30.750315Z",
     "start_time": "2023-01-26T19:51:30.294209Z"
    }
   },
   "outputs": [],
   "source": [
    "# Optional: use inline if not working\n",
    "# %matplotlib widget\n",
    "%matplotlib inline\n",
    "\n",
    "%load_ext autoreload\n",
    "%autoreload 2"
   ]
  },
  {
   "cell_type": "code",
   "execution_count": 4,
   "id": "234cd366",
   "metadata": {},
   "outputs": [],
   "source": [
    "datafolder = 'swf012_data/'  # where to find the downloaded data"
   ]
  },
  {
   "cell_type": "markdown",
   "id": "da95f07d",
   "metadata": {},
   "source": [
    "## Load data cubes from FITS files"
   ]
  },
  {
   "cell_type": "markdown",
   "id": "948710d3",
   "metadata": {},
   "source": [
    "We choose a limited spectral window to reduce computations:"
   ]
  },
  {
   "cell_type": "code",
   "execution_count": 11,
   "id": "bb2d711b",
   "metadata": {},
   "outputs": [],
   "source": [
    "df = 0.100  # MHz, frequency resolution\n",
    "fmin = 166.0  # minimum frequency on the spectral window\n",
    "fmax = 180.9  # maximum frequency on the spectral window\n",
    "spw_range = np.round(np.arange(fmin, fmax+df, step=df), decimals=2) * units.MHz  # spectral window\n",
    "avg_nu = np.mean(spw_range)  # mean frequency over spectral window\n",
    "avg_z = nu0/avg_nu - 1.  # mean redshift over spectral window\n",
    "lamb_array = constants.c.si / (spw_range.si)  # array of observed wavelengths over spectral window"
   ]
  },
  {
   "cell_type": "markdown",
   "id": "1cea1b22",
   "metadata": {},
   "source": [
    "Below, we extract the required frequency channels from the input files and save the result as a new fits file which will be fed to `ps_eor`."
   ]
  },
  {
   "cell_type": "code",
   "execution_count": 12,
   "id": "37d58359",
   "metadata": {},
   "outputs": [],
   "source": [
    "def reduce_file(filename, spw_range):\n",
    "    \"\"\"\n",
    "    Method to select given frequency channels in FITS file.\n",
    "\n",
    "    Parameters\n",
    "    ----------\n",
    "        filename: str\n",
    "            Path to the FITS files containing the image data (3D).\n",
    "            Should have units (astropy.units).\n",
    "        spw_range: array of floats\n",
    "            List of frequencies to extract from dataset.\n",
    "    \n",
    "    Returns\n",
    "    ------\n",
    "        hdu\n",
    "    \"\"\"\n",
    "    nf = spw_range.size\n",
    "    hdu = fits.open(filename)\n",
    "    nfreqs = hdu[0].header['NAXIS3']\n",
    "    df = hdu[0].header['CDELT3'] * units.Hz\n",
    "    fmin = hdu[0].header['CRVAL3'] * units.Hz\n",
    "    fmax = fmin + df * nfreqs\n",
    "    freqs = np.arange(fmin.value, fmax.value, step=df.value) * units.Hz\n",
    "    assert fmin <= spw_range[0].to(units.Hz)\n",
    "    assert fmax >= spw_range[-1].to(units.Hz)\n",
    "    assert freqs.size == nfreqs\n",
    "    inds = np.where((freqs<=spw_range[-1]) & (freqs>=spw_range[0]))[0]\n",
    "    assert inds.size == nf\n",
    "    hdu[0].data = hdu[0].data[inds, :, :]\n",
    "    hdu[0].header['NAXIS3'] = nf\n",
    "    hdu[0].header['CRVAL3'] = spw_range[0].to(units.Hz).value\n",
    "    return hdu"
   ]
  },
  {
   "cell_type": "code",
   "execution_count": 13,
   "id": "fec4b062",
   "metadata": {},
   "outputs": [],
   "source": [
    "# REDUCING FILES\n",
    "weighting = 'msn'\n",
    "\n",
    "# PSF\n",
    "reduced_psf_file = f'{datafolder}TestDataset.{weighting}_psf_reduced.fits'\n",
    "if os.path.exists(reduced_psf_file):\n",
    "    # If the reduced file exist, make sure it contains the appropriate frequencies.\n",
    "    hdu = fits.open(reduced_psf_file)\n",
    "    du = abs(hdu[0].header['CDELT1'])\n",
    "    assert hdu[0].data.shape[0] == spw_range.size\n",
    "    hdu.close()\n",
    "else:\n",
    "    # Else, load full PSF file and reduce\n",
    "    psffile = f'{datafolder}TestDataset.{weighting}_psf.fits'\n",
    "    hdu = reduce_file(psffile, spw_range)\n",
    "    du = abs(hdu[0].header['CDELT1'])\n",
    "    npix = hdu[0].data.shape[1]\n",
    "    # Save to new file\n",
    "    hdu.writeto(reduced_psf_file, overwrite=True)\n",
    "    hdu.close()\n",
    "\n",
    "# IMAGE\n",
    "reduced_image_file = f'{datafolder}IM1.{weighting}_image_reduced.fits'\n",
    "if os.path.exists(reduced_image_file):\n",
    "    # If the reduced file exist, make sure it contains the appropriate frequencies.\n",
    "    hdu = fits.open(reduced_image_file)\n",
    "    assert hdu[0].data.shape[0] == spw_range.size\n",
    "    hdu.close()\n",
    "else:\n",
    "    # Else, load full image file and reduce.\n",
    "    imagefile = f'{datafolder}IM1.{weighting}_image.fits' # location of the image file downloaded from SKA SDC3 drive\n",
    "    hdu = reduce_file(imagefile, spw_range)\n",
    "    hdu.writeto(reduced_image_file, overwrite=True)\n",
    "hdu.close()"
   ]
  },
  {
   "cell_type": "markdown",
   "id": "ea5fb821",
   "metadata": {},
   "source": [
    "## SWF12.1 Create regions"
   ]
  },
  {
   "cell_type": "markdown",
   "id": "96da7160",
   "metadata": {},
   "source": [
    "## SWF12.2 Compute image statistics"
   ]
  },
  {
   "cell_type": "markdown",
   "id": "f2ac8b93",
   "metadata": {},
   "source": [
    "## SWF 12.3 Generate image histograms"
   ]
  },
  {
   "cell_type": "markdown",
   "id": "39daa841",
   "metadata": {},
   "source": [
    "## SWF 12.4 2D gaussian fitting"
   ]
  },
  {
   "cell_type": "markdown",
   "id": "10f5e392",
   "metadata": {},
   "source": [
    "## SWF 12.5 Change of reference frame for the spectral/velocity axis"
   ]
  },
  {
   "cell_type": "code",
   "execution_count": null,
   "id": "08ea4d9d",
   "metadata": {},
   "outputs": [],
   "source": []
  }
 ],
 "metadata": {
  "kernelspec": {
   "display_name": "base",
   "language": "python",
   "name": "python3"
  },
  "language_info": {
   "codemirror_mode": {
    "name": "ipython",
    "version": 3
   },
   "file_extension": ".py",
   "mimetype": "text/x-python",
   "name": "python",
   "nbconvert_exporter": "python",
   "pygments_lexer": "ipython3",
   "version": "3.9.16"
  },
  "toc": {
   "base_numbering": 1,
   "nav_menu": {},
   "number_sections": true,
   "sideBar": true,
   "skip_h1_title": false,
   "title_cell": "Table of Contents",
   "title_sidebar": "Contents",
   "toc_cell": false,
   "toc_position": {},
   "toc_section_display": true,
   "toc_window_display": true
  }
 },
 "nbformat": 4,
 "nbformat_minor": 5
}
