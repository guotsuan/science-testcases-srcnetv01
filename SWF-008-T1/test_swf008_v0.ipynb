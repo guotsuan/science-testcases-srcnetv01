{
 "cells": [
  {
   "cell_type": "markdown",
   "id": "fe00af23",
   "metadata": {},
   "source": [
    "# Plot test dataset"
   ]
  },
  {
   "cell_type": "code",
   "execution_count": 124,
   "id": "9da9d480",
   "metadata": {
    "ExecuteTime": {
     "end_time": "2023-01-26T19:51:08.664363Z",
     "start_time": "2023-01-26T19:51:08.659297Z"
    }
   },
   "outputs": [],
   "source": [
    "import numpy as np\n",
    "from astropy.io import fits\n",
    "from astropy import cosmology, units, constants\n",
    "import astropy.cosmology.units as cunits\n",
    "import warnings\n",
    "import os"
   ]
  },
  {
   "cell_type": "code",
   "execution_count": null,
   "id": "8a6afa82",
   "metadata": {
    "ExecuteTime": {
     "end_time": "2023-01-26T19:51:08.667824Z",
     "start_time": "2023-01-26T19:51:08.665759Z"
    }
   },
   "outputs": [],
   "source": [
    "import matplotlib.pyplot as plt\n",
    "from matplotlib import rc, colors"
   ]
  },
  {
   "cell_type": "code",
   "execution_count": null,
   "id": "fee15d5a",
   "metadata": {},
   "outputs": [],
   "source": [
    "from ps_eor import datacube, pspec"
   ]
  },
  {
   "cell_type": "code",
   "execution_count": 4,
   "id": "9ca854be",
   "metadata": {
    "ExecuteTime": {
     "end_time": "2023-01-26T19:51:08.731436Z",
     "start_time": "2023-01-26T19:51:08.728589Z"
    }
   },
   "outputs": [],
   "source": [
    "rc(\"font\", **{\"family\": \"serif\", \"serif\": [\"times new roman\"], \"size\": 15})\n",
    "rc(\"text\", usetex=True)\n",
    "rc(\"axes\", linewidth=1.5)"
   ]
  },
  {
   "cell_type": "markdown",
   "id": "30ae046d",
   "metadata": {},
   "source": []
  },
  {
   "cell_type": "code",
   "execution_count": 5,
   "id": "50cc637c",
   "metadata": {
    "ExecuteTime": {
     "end_time": "2023-01-26T19:51:30.750315Z",
     "start_time": "2023-01-26T19:51:30.294209Z"
    }
   },
   "outputs": [],
   "source": [
    "%matplotlib inline\n",
    "%load_ext autoreload\n",
    "%autoreload 2"
   ]
  },
  {
   "cell_type": "code",
   "execution_count": 6,
   "id": "234cd366",
   "metadata": {},
   "outputs": [],
   "source": [
    "datafolder = './'"
   ]
  },
  {
   "cell_type": "markdown",
   "id": "e8513ae4",
   "metadata": {},
   "source": [
    "## Useful fonctions"
   ]
  },
  {
   "cell_type": "code",
   "execution_count": 60,
   "id": "733c3d18",
   "metadata": {},
   "outputs": [],
   "source": [
    "def plot_ps2d(\n",
    "        pspec_2d, kperp_bins, kpara_bins, dimless=False,\n",
    "        label=r'P($k_\\parallel$,$k_\\perp$) [(Jy/beam)$^2$ Mpc$^3$]',\n",
    "        norm=None, title=None, cmap='viridis', ax=None,\n",
    "    ):\n",
    "    \"\"\"\n",
    "    Method to plot cylindrical power spectrum with logarithmic colorbar.\n",
    "\n",
    "    Parameters\n",
    "    ----------\n",
    "        pspec_2d: 2D array of floats\n",
    "            Array containing the cylindrical power spectrum.\n",
    "            Shape: (nkperp, nkpara).\n",
    "        kperp_bins: array of floats\n",
    "            Array containing the k_perpendicular bins used\n",
    "            to compute the cylindrical power spectrum.\n",
    "            Size: nkperp.\n",
    "        kpara_bins: array of floats\n",
    "            Array containing the k_parallel bins used\n",
    "            to compute the cylindrical power spectrum.\n",
    "            Size: nkpara.  \n",
    "        dimless: boolean\n",
    "            Whether the power spectrum is dimensionless or not.\n",
    "            Default: False.\n",
    "        label: str\n",
    "            Label for the colorbar.\n",
    "            Default is P(k) in (Jy/beam)2 Mpc3.\n",
    "        norm: matplotlib.colors.Normalize object.\n",
    "        title: str\n",
    "            Title for the axis.\n",
    "            Default is None.\n",
    "        cmap: str\n",
    "            Matplotlib colormap to use.\n",
    "            Default is viridis.\n",
    "        ax: matplotlib.axes object\n",
    "            Axis to plot the figure on.\n",
    "            Default is None (new figure and axis are generated).\n",
    "\n",
    "\n",
    "    \"\"\"\n",
    "\n",
    "    kperp_bins = np.atleast_1d(kperp_bins)\n",
    "    kpara_bins = np.atleast_1d(kpara_bins)\n",
    "    assert np.shape(pspec_2d) == (kperp_bins.size, kpara_bins.size), \\\n",
    "        \"Input pspec must have shape (kperp_bins.size, kpara_bins.size).\"\n",
    "    if np.any(pspec_2d < 0):\n",
    "        warnings.warn(\n",
    "            'There are negative values in your pspec. '\n",
    "            'Absolute value will be used for the figure.'\n",
    "        )\n",
    "        pspec_2d = np.abs(pspec_2d)\n",
    "\n",
    "    existing_axis = True\n",
    "    if ax is None:\n",
    "        fig, ax = plt.subplots(1, 1,)\n",
    "        existing_axis = False\n",
    "    if dimless:\n",
    "        k = np.sqrt(kperp_bins[None, :]**2 + kpara_bins[:, None]**2)\n",
    "        pspec2d *= k**3 *1./2./np.pi**2\n",
    "        label = r'$\\Delta^2(k)$ [K$^2$]'\n",
    "\n",
    "    im = ax.pcolor(\n",
    "        kperp_bins,\n",
    "        kpara_bins,\n",
    "        pspec_2d,\n",
    "        shading='auto',\n",
    "        cmap=cmap,\n",
    "        norm=norm,\n",
    "    )\n",
    "    if not existing_axis:\n",
    "        plt.colorbar(im, label=label, ax=ax)\n",
    "        ax.set_ylabel(r'k$_\\parallel$ [Mpc$^{-1}]$')\n",
    "        ax.set_xlabel(r'k$_\\perp$ [Mpc$^{-1}]$')\n",
    "    if title is not None:\n",
    "        ax.set_title(title)\n",
    "\n",
    "\n",
    "def plot_ps1d(pspec_1d, kbins, yerr=None, title=None, dimless=False, ax=None, plot_kwargs={}):\n",
    "    \"\"\"\n",
    "    Method to plot spherical power spectrum.\n",
    "\n",
    "    Parameters\n",
    "    ----------\n",
    "        pspec_1d: 1D array of floats\n",
    "            Array containing the spherical power spectrum.\n",
    "            Must have same shape as kbins.\n",
    "        kbins: array of floats\n",
    "            Array containing the spherical k-bins used\n",
    "            Must have same shape as pspec_1d.\n",
    "        yerr: array of floats (optional)\n",
    "            Array containing the errors on pspec_1d.\n",
    "            Must have same shape as pspec_1d.\n",
    "            Default is None.\n",
    "        title: str\n",
    "            Title for the axis.\n",
    "            Default is None.\n",
    "        dimless: boolean\n",
    "            Whether the power spectrum is dimensionless or not.\n",
    "            Default: False.\n",
    "        ax: matplotlib.axes object\n",
    "            Axis to plot the figure on.\n",
    "            Default is None (new figure and axis are generated).\n",
    "\n",
    "\n",
    "    \"\"\"\n",
    "\n",
    "    assert kbins.size == pspec_1d.size, \\\n",
    "        \"pspec_1d and kbins must have identical size.\"\n",
    "    if yerr is not None:\n",
    "        assert kbins.size == yerr.size, \\\n",
    "            \"yerr and kbins must have identical size.\"\n",
    "\n",
    "    m = pspec_1d > 0.\n",
    "    if ax is None:\n",
    "        fig, ax = plt.subplots()\n",
    "    ls = plot_kwargs.get(\"ls\", '-')\n",
    "    color = plot_kwargs.get(\"color\", 'C0')\n",
    "    lw = plot_kwargs.get(\"lw\", 1.5)\n",
    "    label = plot_kwargs.get(\"label\", None)\n",
    "\n",
    "    if dimless:\n",
    "        if yerr is not None:\n",
    "            yerr = kbins[m]**3 * yerr[m] / 2./np.pi**2\n",
    "        ax.errorbar(kbins[m], kbins[m]**3 * pspec_1d[m]/2./np.pi**2, yerr=yerr, color=color, marker='.', capsize=2, ls=ls, lw=lw, label=label)\n",
    "        ylabel = r'$\\Delta^2(k)$ [K$^2$]'\n",
    "    else:\n",
    "        if yerr is not None:\n",
    "            yerr = yerr[m]\n",
    "        ax.errorbar(kbins[m], pspec_1d[m], yerr=yerr, color=color, marker='.', capsize=2, label=label, ls=ls, lw=lw)\n",
    "        ylabel = r'$P(k)$ [K$^2$ Mpc$^3$]'\n",
    "    ax.set_yscale('log')\n",
    "    ax.set_xscale('log')\n",
    "    if title is not None:\n",
    "        ax.set_title(title)\n",
    "    ax.set_xlabel(r'$k$ [Mpc$^{-1}]$')\n",
    "    ax.set_ylabel(ylabel)\n",
    "\n",
    "def plot_map(box, fov, ifreq=None, label=r'$T$ [K]', cmap='RdBu_r', title=None, norm=None, ax=None, uv=False):\n",
    "    \"\"\"\n",
    "    Method to plot 2D sky map from lightcone.\n",
    "\n",
    "    Parameters\n",
    "    ----------\n",
    "        box: 2D or 3D array of floats\n",
    "            Array containing the lightcone.\n",
    "            Dimensions (npix, npix, nfreqs).\n",
    "        fov: float\n",
    "            Field of view corresponding to the image.\n",
    "            Must have units.\n",
    "        ifreq: int\n",
    "            Which frequency channel to plot if box is 3D.\n",
    "            Default is None: nfreqs//2.\n",
    "        label: str\n",
    "            Label for the colorbar.\n",
    "            Default is T [K].\n",
    "        title: str\n",
    "            Title for the axis.\n",
    "            Default is None.\n",
    "        cmap: str\n",
    "            Matplotlib colormap to use.\n",
    "            Default is RdBu_r.\n",
    "        norm: matplotlib.colors.Normalize object.\n",
    "        ax: matplotlib.axes object\n",
    "            Axis to plot the figure on.\n",
    "            Default is None (new figure and axis are generated).\n",
    "        uv: boolean\n",
    "            Whether you are plotting a (u, v) map or not.\n",
    "            Default: False.\n",
    "\n",
    "\n",
    "    \"\"\"\n",
    "    ang_res = fov / box.shape[0]\n",
    "    if box.ndim == 3:\n",
    "        if ifreq is None:\n",
    "            ifreq = box.shape[-1]//2\n",
    "        else:\n",
    "            assert ifreq < box.shape[-1], \\\n",
    "                \"ifreq must be smaller than box.shape[-1].\"\n",
    "        image = box[:, :, ifreq]\n",
    "    elif box.ndim == 2:\n",
    "        image = np.copy(box)\n",
    "    else:\n",
    "        raise ValueError('box must be of dimension 2 or 3.')\n",
    "\n",
    "    if uv:\n",
    "        xlin = np.linspace(\n",
    "            1.22/fov.to(units.rad).value,\n",
    "            1.22/ang_res.to(units.rad).value,\n",
    "            box.shape[0]\n",
    "        )\n",
    "    else:\n",
    "        xlin = np.linspace(\n",
    "            -fov.to(units.deg).value/2,\n",
    "            fov.to(units.deg).value/2,\n",
    "            box.shape[0]\n",
    "        )\n",
    "    existing_axis = True\n",
    "    if ax is None:\n",
    "        fig, ax = plt.subplots(1, 1,)\n",
    "        existing_axis = False\n",
    "\n",
    "    im = ax.pcolor(\n",
    "        xlin, xlin,\n",
    "        image,\n",
    "        shading='auto',\n",
    "        norm=norm,\n",
    "        cmap=cmap\n",
    "    )\n",
    "    plt.colorbar(im, label=label, ax=ax)\n",
    "    if uv:\n",
    "        ax.set_ylabel(rf'$u$')\n",
    "        ax.set_xlabel(rf'$v$')\n",
    "    else:\n",
    "        ax.set_ylabel(rf'$\\theta$ [{fov.unit}]')\n",
    "        ax.set_xlabel(rf'$\\theta$ [{fov.unit}]')\n",
    "    if title is not None:\n",
    "        ax.set_title(title)\n",
    "    \n"
   ]
  },
  {
   "cell_type": "code",
   "execution_count": 82,
   "id": "730ef43c",
   "metadata": {},
   "outputs": [],
   "source": [
    "\n",
    "def cyl_to_sph(cyl_ps, kperp_bins, kpara_bins, kbins=None, nbins=None):\n",
    "    \"\"\"\n",
    "    Compute spherical power spectrum from cylindrical one.\n",
    "\n",
    "    Parameters\n",
    "    ----------\n",
    "        ps_data: 2D array of floats\n",
    "            2D cylindrical power spectrum.\n",
    "        kperp_bins: array of floats\n",
    "            kperp cylindrical bins used to obtain\n",
    "            ps_data.\n",
    "        kpara_bins: array of floats\n",
    "            kpara cylindrical bins used to obtain\n",
    "            ps_data.\n",
    "        kbins: array or list of floats\n",
    "            Spherical k-bins to use.\n",
    "            Units should be Mpc-1.\n",
    "            All values should be positive.\n",
    "            Default is None.\n",
    "        nbins: int\n",
    "            Number of bins to use when building the spherical power\n",
    "            spectrum. Set to kbins.size if kbins is fed.\n",
    "            Default is 30.\n",
    "    Returns\n",
    "    -------\n",
    "        kbins: array of floats\n",
    "            Spherical k-bins used, weighted by cell population.\n",
    "        pspec: array of floats\n",
    "            Spherical power spectrum in units of mK2 Mpc^3.\n",
    "\n",
    "    \"\"\"\n",
    "    # check dimensions\n",
    "    assert np.shape(cyl_ps) == (kperp_bins.size, kpara_bins.size), \\\n",
    "        \"Shapes of ps_data and of kperp and kpara bins do not match.\"\n",
    "\n",
    "    k_mag = np.sqrt(kperp_bins[:, None]**2 + kpara_bins[None, :]**2)\n",
    "\n",
    "    # define the spherical bins and bin edges\n",
    "    if kbins is None:\n",
    "        if nbins is None:\n",
    "            nbins = 10\n",
    "        else:\n",
    "            nbins = int(nbins)\n",
    "        kmin = np.min(k_mag) * 2.\n",
    "        kmax = np.max(k_mag) / 2.\n",
    "        bin_edges = np.histogram_bin_edges(\n",
    "            np.sort(k_mag.flatten()),\n",
    "            bins=nbins,\n",
    "            range=(kmin, kmax)\n",
    "        )\n",
    "    else:\n",
    "        dk = np.diff(kbins).mean()\n",
    "        assert dk > 0\n",
    "        bin_edges = np.arange(kbins.min()-dk/2, kbins.max()+dk, dk)\n",
    "        assert np.size(bin_edges) == np.size(kbins) + 1\n",
    "        nbins = kbins.size\n",
    "    assert np.size(bin_edges) > 1, \"Error obtaining kpar bins.\"\n",
    "\n",
    "    pspec = np.zeros(len(bin_edges) - 1)\n",
    "    weighted_k = np.zeros(len(bin_edges) - 1)\n",
    "    for k in range(len(bin_edges) - 1):\n",
    "        mask = (bin_edges[k] < k_mag) & (k_mag <= bin_edges[k + 1])\n",
    "        if mask.any():\n",
    "            pspec[k] = np.mean(cyl_ps[mask].real)  # [mk^2 Mpc^3]\n",
    "            weighted_k[k] = np.mean(k_mag[mask])\n",
    "    # Make sure there are no nans! If there are make them zeros.\n",
    "    pspec[np.isnan(pspec)] = 0.0\n",
    "    # Check empty bins\n",
    "    if np.any(weighted_k == 0.):\n",
    "        print('Some empty k-bins!')\n",
    "\n",
    "    return weighted_k, pspec"
   ]
  },
  {
   "cell_type": "markdown",
   "id": "9318946c",
   "metadata": {},
   "source": [
    "## General parameters"
   ]
  },
  {
   "cell_type": "code",
   "execution_count": null,
   "id": "87aef140",
   "metadata": {},
   "outputs": [],
   "source": [
    "# 21cm rest-frame frequency\n",
    "nu0 = 1420 * units.MHz"
   ]
  },
  {
   "cell_type": "code",
   "execution_count": 78,
   "id": "34e7e6f4",
   "metadata": {},
   "outputs": [
    {
     "name": "stdout",
     "output_type": "stream",
     "text": [
      "[0.07071068 0.14142136 0.21213203 0.28284271 0.35355339 0.42426407\n",
      " 0.49497475 0.56568542 0.6363961  0.70710678]\n"
     ]
    }
   ],
   "source": [
    "# BINS TO USE FOR HISTOGRAMMING\n",
    "\n",
    "# k-range\n",
    "kperp_bins = np.loadtxt(f'{datafolder}bins_kper.txt')\n",
    "dkperp = np.diff(kperp_bins)[0]\n",
    "kperp_edges = np.arange(kperp_bins.min()-dkperp/2, kperp_bins.max()+dkperp, dkperp)\n",
    "\n",
    "kpara_bins = np.loadtxt(f'{datafolder}bins_kpar.txt')\n",
    "dkpara= np.diff(kpara_bins)[0]\n",
    "kpara_edges = np.arange(kpara_bins.min()-dkpara/2, kpara_bins.max()+dkpara, dkpara)\n",
    "\n",
    "\n",
    "k_mag = np.sqrt(kperp_bins[:, None]**2 + kpara_bins[None, :]**2)\n",
    "kmin = np.min(k_mag) / units.Mpc\n",
    "kmax = np.max(k_mag) / units.Mpc\n",
    "krange = np.linspace(kmin, kmax, 10).value\n",
    "\n",
    "nbins = 10\n",
    "kbins = np.linspace(np.min(k_mag), np.max(k_mag), nbins)\n",
    "print(kbins)\n"
   ]
  },
  {
   "cell_type": "code",
   "execution_count": 32,
   "id": "674182a4",
   "metadata": {},
   "outputs": [],
   "source": [
    "bmax = 5. * units.km\n",
    "D_station = (35+40)/2 * units.m"
   ]
  },
  {
   "cell_type": "code",
   "execution_count": 35,
   "id": "4ad4c585",
   "metadata": {},
   "outputs": [],
   "source": [
    "total_time = 1000. * units.hour\n",
    "int_time = 10.*units.second"
   ]
  },
  {
   "cell_type": "markdown",
   "id": "da95f07d",
   "metadata": {},
   "source": [
    "## Load data cubes from FITS files"
   ]
  },
  {
   "cell_type": "markdown",
   "id": "948710d3",
   "metadata": {},
   "source": [
    "Choose spectral window to reduce computations:"
   ]
  },
  {
   "cell_type": "code",
   "execution_count": 30,
   "id": "bb2d711b",
   "metadata": {},
   "outputs": [
    {
     "name": "stdout",
     "output_type": "stream",
     "text": [
      "180.9 MHz\n"
     ]
    }
   ],
   "source": [
    "df = 0.100 # MHz\n",
    "fmin = 166.0\n",
    "fmax = 180.9\n",
    "spw_range = np.round(np.arange(fmin, fmax+df, step=df), decimals=2) * units.MHz\n",
    "print(spw_range[-1])\n",
    "avg_nu = np.mean(spw_range)\n",
    "avg_z = nu0/avg_nu - 1.\n",
    "lamb_array = constants.c.si / (spw_range.si)"
   ]
  },
  {
   "cell_type": "markdown",
   "id": "1cea1b22",
   "metadata": {},
   "source": [
    "Only keep part of file that has this limited spectral window"
   ]
  },
  {
   "cell_type": "code",
   "execution_count": null,
   "id": "37d58359",
   "metadata": {},
   "outputs": [],
   "source": [
    "def reduce_file(filename, spw_range):\n",
    "    nf = spw_range.size\n",
    "    hdu = fits.open(filename)\n",
    "    nfreqs = hdu[0].header['NAXIS3']\n",
    "    df = hdu[0].header['CDELT3'] * units.Hz\n",
    "    fmin = hdu[0].header['CRVAL3'] * units.Hz\n",
    "    fmax = fmin + df * nfreqs\n",
    "    freqs = np.arange(fmin.value, fmax.value, step=df.value) * units.Hz\n",
    "    assert fmin <= spw_range[0].to(units.Hz)\n",
    "    assert fmax >= spw_range[-1].to(units.Hz)\n",
    "    assert freqs.size == nfreqs\n",
    "    inds = np.where((freqs<=spw_range[-1]) & (freqs>=spw_range[0]))[0]\n",
    "    assert inds.size == nf\n",
    "    hdu[0].data = hdu[0].data[inds, :, :]\n",
    "    hdu[0].header['NAXIS3'] = nf\n",
    "    hdu[0].header['CRVAL3'] = spw_range[0].to(units.Hz).value\n",
    "    return hdu"
   ]
  },
  {
   "cell_type": "code",
   "execution_count": null,
   "id": "fec4b062",
   "metadata": {},
   "outputs": [
    {
     "name": "stdout",
     "output_type": "stream",
     "text": [
      "150 150\n",
      "150 150\n"
     ]
    }
   ],
   "source": [
    "# REDUCING FILES\n",
    "weighting = 'msn'\n",
    "\n",
    "# PSF\n",
    "reduced_psf_file = f'TestDataset.{weighting}_psf_reduced.fits'\n",
    "if os.path.exists(reduced_psf_file):\n",
    "    hdu = fits.open(reduced_psf_file)\n",
    "    assert hdu[0].data.shape[0] == spw_range.size\n",
    "    hdu.close()\n",
    "else:\n",
    "    psffolder = './' # location of the psf file downloaded from SKA SDC3 drive\n",
    "    psffile = f'{psffolder}TestDataset.{weighting}_psf.fits'\n",
    "    hdu = reduce_file(psffile, spw_range)\n",
    "    du = abs(hdu[0].header['CDELT1'])\n",
    "    npix = hdu[0].data.shape[1]\n",
    "    hdu.writeto(reduced_psf_file, overwrite=True)\n",
    "    hdu.close()\n",
    "\n",
    "# IMAGE\n",
    "reduced_image_file = f'IM1.{weighting}_image_reduced.fits'\n",
    "if os.path.exists(reduced_image_file):\n",
    "    hdu = fits.open(reduced_image_file)\n",
    "    assert hdu[0].data.shape[0] == spw_range.size\n",
    "    hdu.close()\n",
    "else:\n",
    "    imagefile = f'IM1.{weighting}_image.fits' # location of the image file downloaded from SKA SDC3 drive\n",
    "    hdu = reduce_file(imagefile, spw_range)\n",
    "    hdu.writeto(reduced_image_file, overwrite=True)\n",
    "hdu.close()"
   ]
  },
  {
   "cell_type": "code",
   "execution_count": 71,
   "id": "8bb2cba0",
   "metadata": {},
   "outputs": [],
   "source": [
    "fov = 1./du"
   ]
  },
  {
   "cell_type": "markdown",
   "id": "0076f879",
   "metadata": {},
   "source": [
    "Load PSF and image files and transform into a visibility cube:"
   ]
  },
  {
   "cell_type": "code",
   "execution_count": 36,
   "id": "83c404e6",
   "metadata": {},
   "outputs": [
    {
     "name": "stdout",
     "output_type": "stream",
     "text": [
      " Progress: 1 / 1 (Total: 0.00 s) \n",
      " Progress: 1 / 1 (Total: 0.00 s) \n",
      "Filtering 0 modes (0.00 %)\n"
     ]
    }
   ],
   "source": [
    "w_cube = datacube.CartWeightCube.load_from_fits_image_and_psf(\n",
    "    files=[f'IM1.{weighting}_image_reduced.fits'],\n",
    "    files_psf=[f'TestDataset.{weighting}_psf_reduced.fits'],\n",
    "    umin=max(50, D_station/np.mean(lamb_array)),  # 50 default\n",
    "    umax=min(250, bmax.si/np.mean(lamb_array)),  # 250 default\n",
    "    theta_fov=(1.22*np.mean(lamb_array)/D_station).value,\n",
    "    int_time=int_time.to(units.s).value,\n",
    "    total_time=total_time.to(units.s).value,\n",
    "    use_wscnormf=False, # use pSF and not WSCNORMF to normalise the visibilities\n",
    "    window_function=datacube.WindowFunction('hann') # or datacube.WindowFunction(('tukey', 0.2))\n",
    ")"
   ]
  },
  {
   "cell_type": "code",
   "execution_count": 37,
   "id": "fadf7eba",
   "metadata": {},
   "outputs": [
    {
     "data": {
      "text/plain": [
       "(150, 600)"
      ]
     },
     "execution_count": 37,
     "metadata": {},
     "output_type": "execute_result"
    }
   ],
   "source": [
    "w_cube.data.shape"
   ]
  },
  {
   "cell_type": "markdown",
   "id": "3a035e3d",
   "metadata": {},
   "source": [
    "## Power spectra"
   ]
  },
  {
   "cell_type": "code",
   "execution_count": 39,
   "id": "507fd59e",
   "metadata": {},
   "outputs": [],
   "source": [
    "cos = cosmology.FlatLambdaCDM(Om0=0.30964, H0=100.)"
   ]
  },
  {
   "cell_type": "markdown",
   "id": "b57447be",
   "metadata": {},
   "source": [
    "1. Read from file"
   ]
  },
  {
   "cell_type": "markdown",
   "id": "2597ed93",
   "metadata": {},
   "source": [
    "Reference power spectrum, given by SDC3b team as the power spectrum  of IM1 above."
   ]
  },
  {
   "cell_type": "code",
   "execution_count": 94,
   "id": "09dc7990",
   "metadata": {},
   "outputs": [
    {
     "data": {
      "image/png": "[encoded data removed]",
      "text/plain": [
       "<Figure size 640x480 with 2 Axes>"
      ]
     },
     "metadata": {},
     "output_type": "display_data"
    }
   ],
   "source": [
    "datafile = datafolder+f'Pk_PS3_{spw_range[0].to(units.MHz).value:.1f}_{spw_range[-1].to(units.MHz).value:.1f}.txt'\n",
    "pspec_2d_from_file = np.loadtxt(datafile) * units.K**2 * units.Mpc**3 / cunits.littleh**3\n",
    "# pspec_2d_from_file = pspec_2d_from_file.to(units.mK**2 * units.Mpc**3, cunits.with_H0(cos.H0)).value\n",
    "plot_ps2d(\n",
    "        pspec_2d_from_file, \n",
    "        kperp_bins, kpara_bins,\n",
    "        cmap='Spectral_r', norm=colors.LogNorm(),\n",
    "        label=r'$P(k_\\perp, k_\\parallel)\\, [\\mathrm{mK}^2 h^{-3} \\mathrm{Mpc}^3]$'\n",
    ")"
   ]
  },
  {
   "cell_type": "code",
   "execution_count": 96,
   "id": "26139d89",
   "metadata": {},
   "outputs": [],
   "source": [
    "w_kbins, pspec_1d_from_file = cyl_to_sph(pspec_2d_from_file.value, kperp_bins, kpara_bins, kbins=kbins)"
   ]
  },
  {
   "cell_type": "markdown",
   "id": "6e60c87b",
   "metadata": {},
   "source": [
    "2. Computed from the image"
   ]
  },
  {
   "cell_type": "code",
   "execution_count": null,
   "id": "3216f7e7",
   "metadata": {},
   "outputs": [],
   "source": [
    "eor_bin_list = pspec.EorBinList(w_cube.freqs)\n",
    "# Create an EoR bin 122-134 MHz with a 120-136MHz range for the FG fitting\n",
    "eor_bin_list.add_freq(1, 166, 181, 120, 136)\n",
    "eor = eor_bin_list.get(1)\n"
   ]
  },
  {
   "cell_type": "code",
   "execution_count": 120,
   "id": "1a4fdf6e",
   "metadata": {},
   "outputs": [
    {
     "data": {
      "image/png": "[encoded data removed]",
      "text/plain": [
       "<Figure size 640x480 with 2 Axes>"
      ]
     },
     "metadata": {},
     "output_type": "display_data"
    },
    {
     "data": {
      "image/png": "[encoded data removed]",
      "text/plain": [
       "<Figure size 640x480 with 1 Axes>"
      ]
     },
     "metadata": {},
     "output_type": "display_data"
    }
   ],
   "source": [
    "# Create a PS configuration\n",
    "# el = 2 * np.pi * (np.arange(du, du*npix, du))\n",
    "el = 2 * np.pi * (np.arange(w_cube.ru.min(), w_cube.ru.max(), 10.*du))\n",
    "ps_conf = pspec.PowerSpectraConfig(el)\n",
    "\n",
    "pb = datacube.SkaLowPrimaryBeam()\n",
    "\n",
    "# Create a PS generation object\n",
    "ps_gen = pspec.PowerSpectraCart(eor, ps_conf, pb)\n",
    "\n",
    "# Create a Spatial PS, plot it and save it to a file\n",
    "ps = ps_gen.get_ps(w_cube)\n",
    "# ps.plot(title='Spatial power spectra')\n",
    "# plt.savefig('ps.pdf')\n",
    "# ps.save_to_txt('ps.txt')\n",
    "\n",
    "# Create a Cylindrically averaged PS\n",
    "ps2d = ps_gen.get_ps2d(w_cube)\n",
    "ps2d.plot(title='Cylindrically averaged power spectra')#, vmin=pspec_2d_from_file.min().value, vmax=pspec_2d_from_file.max().value)\n",
    "# plt.savefig('ps2d.pdf')\n",
    "# ps2d.save_to_txt('ps2d.txt')\n",
    "\n",
    "# Create a Spherically averaged PS\n",
    "kbins2 = np.logspace(np.log10(ps_gen.kmin), np.log10(0.5), 10)\n",
    "ps3d = ps_gen.get_ps3d(kbins2, w_cube)\n",
    "ps3d.plot(title='Spherically averaged power spectra')\n",
    "ax = plt.gca()\n",
    "# ax.loglog(kbins, w_kbins**3 * pspec_1d_from_file / 2./ np.pi**2, color='k', label='From SDC3 team')\n",
    "\n",
    "# plt.savefig('ps3d.pdf')\n",
    "# ps3d.save_to_txt('ps3d.txt')\n"
   ]
  },
  {
   "cell_type": "markdown",
   "id": "e202a958",
   "metadata": {},
   "source": [
    "### Compare power spectra"
   ]
  },
  {
   "cell_type": "code",
   "execution_count": 112,
   "id": "4ccfd994",
   "metadata": {},
   "outputs": [
    {
     "data": {
      "text/plain": [
       "Text(0.5, 0, '$k\\\\,[\\\\mathrm{h\\\\,cMpc^{-1}}]$')"
      ]
     },
     "execution_count": 112,
     "metadata": {},
     "output_type": "execute_result"
    },
    {
     "data": {
      "image/png": "[encoded data removed]",
      "text/plain": [
       "<Figure size 640x480 with 1 Axes>"
      ]
     },
     "metadata": {},
     "output_type": "display_data"
    }
   ],
   "source": [
    "plt.figure()\n",
    "plt.loglog(kbins, w_kbins**3 * pspec_1d_from_file / 2./ np.pi**2, color='k', label='From SDC3 team')\n",
    "plt.loglog(ps3d.k_mean, ps3d.data, label='Computed from image', marker='.')\n",
    "plt.legend()\n",
    "plt.ylabel(r'$\\Delta^2 (k)\\,[\\mathrm{mK}^2]$')\n",
    "plt.xlabel(r'$k\\,[\\mathrm{h\\,cMpc^{-1}}]$')"
   ]
  },
  {
   "cell_type": "code",
   "execution_count": null,
   "id": "5446a3c2",
   "metadata": {},
   "outputs": [],
   "source": []
  }
 ],
 "metadata": {
  "kernelspec": {
   "display_name": "ps_eor",
   "language": "python",
   "name": "python3"
  },
  "language_info": {
   "codemirror_mode": {
    "name": "ipython",
    "version": 3
   },
   "file_extension": ".py",
   "mimetype": "text/x-python",
   "name": "python",
   "nbconvert_exporter": "python",
   "pygments_lexer": "ipython3",
   "version": "3.8.19"
  },
  "toc": {
   "base_numbering": 1,
   "nav_menu": {},
   "number_sections": true,
   "sideBar": true,
   "skip_h1_title": false,
   "title_cell": "Table of Contents",
   "title_sidebar": "Contents",
   "toc_cell": false,
   "toc_position": {},
   "toc_section_display": true,
   "toc_window_display": true
  }
 },
 "nbformat": 4,
 "nbformat_minor": 5
}
