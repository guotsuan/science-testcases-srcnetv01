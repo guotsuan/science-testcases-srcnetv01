{
 "cells": [
  {
   "cell_type": "markdown",
   "id": "fe00af23",
   "metadata": {},
   "source": [
    "# Image-based EoR power spectrum Test Case - SRCNet v0.1\n"
   ]
  },
  {
   "cell_type": "markdown",
   "id": "c9ae5a9f",
   "metadata": {},
   "source": [
    "---\n",
    "\n",
    "**Test name:** SWF-008-T1 – Image-based power spectrum from the Epoch of Reionisation\n",
    "\n",
    "**Author:** Adélie Gorce, Florent Mertens, and Teal team \n",
    "\n",
    "**Documentation on confluence:** https://confluence.skatelescope.org/pages/viewpage.action?pageId=319987896\n",
    "\n",
    "**Summary:**  This test assesses the ability of the SRCNet v0.1 to produce a cylindrical power spectrum given an image field, in FITS format, based on data from the SKA Data Challenge 3b. The main application is in the context of the Epoch of Reionisation science case. There is a second leg to this test, SWF-008-T2, which computes the cylindrical power spectrum from a set of visibilities.\n",
    "\n",
    "---\n",
    "\n",
    "### Data:\n",
    "We use data produced in the context of the **SKA data challenge 3b**: a simulated image (IM1), the corresponding simulated instrument PSF (All_PSF), and the cylindrical power spectrum of the image, provided as reference (PS3). All data are publicly available. \n",
    "\n",
    "\n",
    "### In this test we perform:\n",
    "\n",
    "In this notebook, we\n",
    "- Load the image data and PSF, provided as FITS files\n",
    "- Save reduced datasets to FITS files, in order to limit computing needs\n",
    "- Compute the power spectrum of the reduced dataset with the `ps_eor` package (https://gitlab.com/flomertens/ps_eor/)\n",
    "- Compare the output image to PS3.\n",
    "\n",
    "### Expected outputs:\n",
    "- Figure of the cylindrical power spectrum.\n",
    "  \n",
    "### Outputs for validation: \n",
    "- Output is validated by comparing images between output of test on SRCNet and test ran on known infrastructure. See https://confluence.skatelescope.org/pages/viewpage.action?pageId=319987896 for expected outputs\n"
   ]
  },
  {
   "cell_type": "code",
   "execution_count": 1,
   "id": "9da9d480",
   "metadata": {
    "ExecuteTime": {
     "end_time": "2023-01-26T19:51:08.664363Z",
     "start_time": "2023-01-26T19:51:08.659297Z"
    },
    "execution": {
     "iopub.execute_input": "2025-06-27T16:06:04.096203Z",
     "iopub.status.busy": "2025-06-27T16:06:04.095977Z",
     "iopub.status.idle": "2025-06-27T16:06:13.908337Z",
     "shell.execute_reply": "2025-06-27T16:06:13.907687Z",
     "shell.execute_reply.started": "2025-06-27T16:06:04.096181Z"
    }
   },
   "outputs": [],
   "source": [
    "# import required packages\n",
    "import numpy as np\n",
    "from astropy.io import fits\n",
    "from astropy import units, constants\n",
    "import warnings\n",
    "import time\n",
    "import os\n",
    "import warnings\n",
    "import yaml\n",
    "import matplotlib.pyplot as plt\n",
    "from matplotlib import colors\n",
    "\n",
    "from ps_eor import datacube, pspec, psutil"
   ]
  },
  {
   "cell_type": "code",
   "execution_count": 2,
   "id": "50cc637c",
   "metadata": {
    "ExecuteTime": {
     "end_time": "2023-01-26T19:51:30.750315Z",
     "start_time": "2023-01-26T19:51:30.294209Z"
    },
    "execution": {
     "iopub.execute_input": "2025-06-27T16:06:15.949972Z",
     "iopub.status.busy": "2025-06-27T16:06:15.949573Z",
     "iopub.status.idle": "2025-06-27T16:06:16.475586Z",
     "shell.execute_reply": "2025-06-27T16:06:16.474987Z",
     "shell.execute_reply.started": "2025-06-27T16:06:15.949954Z"
    }
   },
   "outputs": [],
   "source": [
    "%matplotlib inline\n",
    "%load_ext autoreload\n",
    "%autoreload 2"
   ]
  },
  {
   "cell_type": "code",
   "execution_count": 3,
   "id": "234cd366",
   "metadata": {
    "execution": {
     "iopub.execute_input": "2025-06-27T16:06:17.231222Z",
     "iopub.status.busy": "2025-06-27T16:06:17.230989Z",
     "iopub.status.idle": "2025-06-27T16:06:17.720964Z",
     "shell.execute_reply": "2025-06-27T16:06:17.720442Z",
     "shell.execute_reply.started": "2025-06-27T16:06:17.231205Z"
    }
   },
   "outputs": [],
   "source": [
    "config_file = \"../config/config.yml\"\n",
    "\n",
    "default_base_path = \"../datasets\"\n",
    "default_result_path = \"../results\"\n",
    "\n",
    "if os.path.exists(config_file):\n",
    "    with open(config_file, \"r\") as f:\n",
    "        config = yaml.safe_load(f)\n",
    "else:\n",
    "    warnings.warn(f\"! Configuration file '{config_file}' not found. Using default settings.\", UserWarning)\n",
    "    config = {}\n",
    "\n",
    "base_path = config.get(\"data_path\")\n",
    "if base_path is None:\n",
    "    warnings.warn(f\"! 'data_path' not found in '{config_file}'. Using default path '{default_base_path}'.\", UserWarning)\n",
    "    base_path = default_base_path\n",
    "\n",
    "result_path = config.get(\"result_path\")\n",
    "if result_path is None:\n",
    "    warnings.warn(f\"! 'result_path' not found in '{config_file}'. Using default: '{default_result_path}'.\", UserWarning)\n",
    "    result_path = default_result_path\n",
    "\n",
    "result_path += \"/SWF-008-T1\"\n",
    "\n",
    "datafolder = base_path +\"/\" # where to find the downloaded data - here, on Azimuth"
   ]
  },
  {
   "cell_type": "markdown",
   "id": "e8513ae4",
   "metadata": {},
   "source": [
    "## Useful fonctions"
   ]
  },
  {
   "cell_type": "markdown",
   "id": "31efe823",
   "metadata": {},
   "source": [
    "Define two useful functions:\n",
    "1. `plot_ps2d` to plot the cylindrical power spectrum\n",
    "3. `get_ps_gen_square` to bin the cylindrical power spectrum generated by `ps_eor`"
   ]
  },
  {
   "cell_type": "code",
   "execution_count": 4,
   "id": "733c3d18",
   "metadata": {
    "execution": {
     "iopub.execute_input": "2025-06-27T16:06:22.252307Z",
     "iopub.status.busy": "2025-06-27T16:06:22.252053Z",
     "iopub.status.idle": "2025-06-27T16:06:22.754558Z",
     "shell.execute_reply": "2025-06-27T16:06:22.754025Z",
     "shell.execute_reply.started": "2025-06-27T16:06:22.252287Z"
    }
   },
   "outputs": [],
   "source": [
    "def plot_ps2d(\n",
    "        pspec_2d, kperp_bins, kpara_bins, dimless=False,\n",
    "        label=r'P($k_\\parallel$,$k_\\perp$) [(Jy/beam)$^2$ Mpc$^3$]',\n",
    "        norm=None, title=None, cmap='viridis', ax=None, little_h=False,\n",
    "    ):\n",
    "    \"\"\"\n",
    "    Method to plot cylindrical power spectrum with logarithmic colorbar.\n",
    "\n",
    "    Parameters\n",
    "    ----------\n",
    "        pspec_2d: 2D array of floats\n",
    "            Array containing the cylindrical power spectrum.\n",
    "            Shape: (nkperp, nkpara).\n",
    "        kperp_bins: array of floats\n",
    "            Array containing the k_perpendicular bins used\n",
    "            to compute the cylindrical power spectrum.\n",
    "            Size: nkperp.\n",
    "        kpara_bins: array of floats\n",
    "            Array containing the k_parallel bins used\n",
    "            to compute the cylindrical power spectrum.\n",
    "            Size: nkpara.  \n",
    "        dimless: boolean\n",
    "            Whether the power spectrum is dimensionless or not.\n",
    "            Default: False.\n",
    "        label: str\n",
    "            Label for the colorbar.\n",
    "            Default is P(k) in (Jy/beam)2 Mpc3.\n",
    "        norm: matplotlib.colors.Normalize object.\n",
    "        title: str\n",
    "            Title for the axis.\n",
    "            Default is None.\n",
    "        cmap: str\n",
    "            Matplotlib colormap to use.\n",
    "            Default is viridis.\n",
    "        ax: matplotlib.axes object\n",
    "            Axis to plot the figure on.\n",
    "            Default is None (new figure and axis are generated).\n",
    "        little_h: boolean\n",
    "            Whether to use little_h units or not.\n",
    "            Default is False.\n",
    "\n",
    "\n",
    "    \"\"\"\n",
    "\n",
    "    kperp_bins = np.atleast_1d(kperp_bins)\n",
    "    kpara_bins = np.atleast_1d(kpara_bins)\n",
    "    assert np.shape(pspec_2d) == (kperp_bins.size, kpara_bins.size), \\\n",
    "        \"Input pspec must have shape (kperp_bins.size, kpara_bins.size).\"\n",
    "    if np.any(pspec_2d < 0):\n",
    "        warnings.warn(\n",
    "            'There are negative values in your pspec. '\n",
    "            'Absolute value will be used for the figure.'\n",
    "        )\n",
    "        pspec_2d = np.abs(pspec_2d)\n",
    "    h = 'h' if little_h else ''\n",
    "\n",
    "    existing_axis = True\n",
    "    if ax is None:\n",
    "        fig, ax = plt.subplots(1, 1,)\n",
    "        existing_axis = False\n",
    "    if dimless:\n",
    "        k = np.sqrt(kperp_bins[None, :]**2 + kpara_bins[:, None]**2)\n",
    "        pspec2d *= k**3 *1./2./np.pi**2\n",
    "        label = r'$\\Delta^2(k)$ [K$^2$]'\n",
    "\n",
    "    im = ax.pcolor(\n",
    "        kperp_bins,\n",
    "        kpara_bins,\n",
    "        pspec_2d,\n",
    "        shading='auto',\n",
    "        cmap=cmap,\n",
    "        norm=norm,\n",
    "    )\n",
    "    if not existing_axis:\n",
    "        plt.colorbar(im, label=label, ax=ax)\n",
    "        ax.set_ylabel(fr'k$_\\parallel$ [${h}$Mpc$^{{-1}}]$')\n",
    "        ax.set_xlabel(fr'k$_\\perp$ [${h}$Mpc$^{{-1}}]$')\n",
    "    if title is not None:\n",
    "        ax.set_title(title)"
   ]
  },
  {
   "cell_type": "code",
   "execution_count": 5,
   "id": "c1795215",
   "metadata": {
    "execution": {
     "iopub.execute_input": "2025-06-27T16:06:23.516207Z",
     "iopub.status.busy": "2025-06-27T16:06:23.515999Z",
     "iopub.status.idle": "2025-06-27T16:06:24.049782Z",
     "shell.execute_reply": "2025-06-27T16:06:24.049241Z",
     "shell.execute_reply.started": "2025-06-27T16:06:23.516189Z"
    }
   },
   "outputs": [],
   "source": [
    "def get_ps_gen_square(cube, fmin, **kargs):\n",
    "    ''' This function return a ps_gen object which will return a power-spectra with the SDC3a binning scheme '''\n",
    "    z = psutil.freq_to_z((fmin + 7.5) * 1e6)\n",
    "    du = psutil.k_to_l(0.05, z) / (2 * np.pi)\n",
    "    umin = du / 2.\n",
    "    umax = psutil.k_to_l(0.5, z) / (2 * np.pi) + du / 2\n",
    "    M = int((1 / psutil.k_to_delay(0.05, z)) / 0.1e6)\n",
    "    ps_builder = pspec.PowerSpectraBuilder()\n",
    "    ps_gen = ps_builder.get(cube, fmhz_range=[fmin, fmin + 15], du=du, umin=umin, umax=umax, uniform_u_bins=True, **kargs)\n",
    "    ps_gen.eor.M = M\n",
    "    ps_gen._compute_delays()\n",
    "    return ps_gen\n",
    "\n",
    "def set_kpar_max(ps2d, kpar_max=0.53):\n",
    "    idx = ps2d.k_par < kpar_max\n",
    "    return pspec.CylindricalPowerSpectra(ps2d.data[idx], ps2d.err[idx], ps2d.delay[idx], ps2d.el, ps2d.k_per, \n",
    "                                         ps2d.k_par[idx], n_eff=ps2d.n_eff[idx])"
   ]
  },
  {
   "cell_type": "markdown",
   "id": "9318946c",
   "metadata": {},
   "source": [
    "## General parameters"
   ]
  },
  {
   "cell_type": "markdown",
   "id": "7d47f8e7",
   "metadata": {},
   "source": [
    "These are general parameters describing the dataset and the instrument (e.g., integration time, k-bins, station diameter)."
   ]
  },
  {
   "cell_type": "code",
   "execution_count": 6,
   "id": "87aef140",
   "metadata": {
    "execution": {
     "iopub.execute_input": "2025-06-27T16:06:26.517432Z",
     "iopub.status.busy": "2025-06-27T16:06:26.516684Z",
     "iopub.status.idle": "2025-06-27T16:06:27.062374Z",
     "shell.execute_reply": "2025-06-27T16:06:27.061809Z",
     "shell.execute_reply.started": "2025-06-27T16:06:26.517413Z"
    }
   },
   "outputs": [],
   "source": [
    "# 21cm rest-frame frequency\n",
    "nu0 = 1420 * units.MHz"
   ]
  },
  {
   "cell_type": "code",
   "execution_count": 7,
   "id": "34e7e6f4",
   "metadata": {
    "execution": {
     "iopub.execute_input": "2025-06-27T16:06:27.341309Z",
     "iopub.status.busy": "2025-06-27T16:06:27.341082Z",
     "iopub.status.idle": "2025-06-27T16:06:27.845919Z",
     "shell.execute_reply": "2025-06-27T16:06:27.845265Z",
     "shell.execute_reply.started": "2025-06-27T16:06:27.341293Z"
    }
   },
   "outputs": [],
   "source": [
    "# BINS TO USE FOR HISTOGRAMMING\n",
    "\n",
    "# k-range\n",
    "dkperp = 0.05\n",
    "kperp_bins = np.arange(0.05, 0.55, step=dkperp)\n",
    "kperp_edges = np.arange(kperp_bins.min()-dkperp/2, kperp_bins.max()+dkperp, dkperp)\n",
    "\n",
    "dkpara = 0.05\n",
    "kpara_bins = np.arange(0.05, 0.55, step=dkperp)\n",
    "kpara_edges = np.arange(kpara_bins.min()-dkpara/2, kpara_bins.max()+dkpara, dkpara)\n",
    "\n",
    "\n",
    "k_mag = np.sqrt(kperp_bins[:, None]**2 + kpara_bins[None, :]**2)\n",
    "kmin = np.min(k_mag) / units.Mpc\n",
    "kmax = np.max(k_mag) / units.Mpc\n",
    "krange = np.linspace(kmin, kmax, 10).value"
   ]
  },
  {
   "cell_type": "code",
   "execution_count": 8,
   "id": "674182a4",
   "metadata": {
    "execution": {
     "iopub.execute_input": "2025-06-27T16:06:28.348773Z",
     "iopub.status.busy": "2025-06-27T16:06:28.348510Z",
     "iopub.status.idle": "2025-06-27T16:06:28.841922Z",
     "shell.execute_reply": "2025-06-27T16:06:28.841318Z",
     "shell.execute_reply.started": "2025-06-27T16:06:28.348756Z"
    }
   },
   "outputs": [],
   "source": [
    "# instrument specs\n",
    "bmax = 5. * units.km  # maximum baseline\n",
    "D_station = (35+40)/2 * units.m  # SKA-Low station diameter"
   ]
  },
  {
   "cell_type": "code",
   "execution_count": 9,
   "id": "4ad4c585",
   "metadata": {
    "execution": {
     "iopub.execute_input": "2025-06-27T16:06:28.878345Z",
     "iopub.status.busy": "2025-06-27T16:06:28.878174Z",
     "iopub.status.idle": "2025-06-27T16:06:29.336313Z",
     "shell.execute_reply": "2025-06-27T16:06:29.335692Z",
     "shell.execute_reply.started": "2025-06-27T16:06:28.878331Z"
    }
   },
   "outputs": [],
   "source": [
    "# details about mock observations\n",
    "total_time = 1000. * units.hour  # total observation time\n",
    "int_time = 10.*units.second  # integration time"
   ]
  },
  {
   "cell_type": "markdown",
   "id": "da95f07d",
   "metadata": {},
   "source": [
    "## Load data cubes from FITS files"
   ]
  },
  {
   "cell_type": "markdown",
   "id": "948710d3",
   "metadata": {},
   "source": [
    "We choose a limited spectral window to reduce computations:"
   ]
  },
  {
   "cell_type": "code",
   "execution_count": 10,
   "id": "bb2d711b",
   "metadata": {
    "execution": {
     "iopub.execute_input": "2025-06-27T16:06:30.497113Z",
     "iopub.status.busy": "2025-06-27T16:06:30.496388Z",
     "iopub.status.idle": "2025-06-27T16:06:30.951025Z",
     "shell.execute_reply": "2025-06-27T16:06:30.950338Z",
     "shell.execute_reply.started": "2025-06-27T16:06:30.497095Z"
    }
   },
   "outputs": [],
   "source": [
    "df = 0.100  # MHz, frequency resolution\n",
    "fmin = 166.0  # minimum frequency on the spectral window\n",
    "fmax = 180.9  # maximum frequency on the spectral window\n",
    "spw_range = np.round(np.arange(fmin, fmax+df, step=df), decimals=2) * units.MHz  # spectral window\n",
    "avg_nu = np.mean(spw_range)  # mean frequency over spectral window\n",
    "avg_z = nu0/avg_nu - 1.  # mean redshift over spectral window\n",
    "lamb_array = constants.c.si / (spw_range.si)  # array of observed wavelengths over spectral window"
   ]
  },
  {
   "cell_type": "markdown",
   "id": "1cea1b22",
   "metadata": {},
   "source": [
    "Below, we extract the required frequency channels from the input files and save the result as a new fits file which will be fed to `ps_eor`."
   ]
  },
  {
   "cell_type": "code",
   "execution_count": 11,
   "id": "37d58359",
   "metadata": {
    "execution": {
     "iopub.execute_input": "2025-06-27T16:06:33.191860Z",
     "iopub.status.busy": "2025-06-27T16:06:33.191610Z",
     "iopub.status.idle": "2025-06-27T16:06:33.688175Z",
     "shell.execute_reply": "2025-06-27T16:06:33.687504Z",
     "shell.execute_reply.started": "2025-06-27T16:06:33.191844Z"
    }
   },
   "outputs": [],
   "source": [
    "def reduce_file(filename, spw_range):\n",
    "    \"\"\"\n",
    "    Method to select given frequency channels in FITS file.\n",
    "\n",
    "    Parameters\n",
    "    ----------\n",
    "        filename: str\n",
    "            Path to the FITS files containing the image data (3D).\n",
    "            Should have units (astropy.units).\n",
    "        spw_range: array of floats\n",
    "            List of frequencies to extract from dataset.\n",
    "    \n",
    "    Returns\n",
    "    ------\n",
    "        hdu\n",
    "    \"\"\"\n",
    "    nf = spw_range.size\n",
    "    hdu = fits.open(filename)\n",
    "    nfreqs = hdu[0].header['NAXIS3']\n",
    "    df = hdu[0].header['CDELT3'] * units.Hz\n",
    "    fmin = hdu[0].header['CRVAL3'] * units.Hz\n",
    "    fmax = fmin + df * nfreqs\n",
    "    freqs = np.arange(fmin.value, fmax.value, step=df.value) * units.Hz\n",
    "    assert fmin <= spw_range[0].to(units.Hz)\n",
    "    assert fmax >= spw_range[-1].to(units.Hz)\n",
    "    assert freqs.size == nfreqs\n",
    "    inds = np.where((freqs<=spw_range[-1]) & (freqs>=spw_range[0]))[0]\n",
    "    assert inds.size == nf\n",
    "    hdu[0].data = hdu[0].data[inds, :, :]\n",
    "    hdu[0].header['NAXIS3'] = nf\n",
    "    hdu[0].header['CRVAL3'] = spw_range[0].to(units.Hz).value\n",
    "    return hdu"
   ]
  },
  {
   "cell_type": "code",
   "execution_count": 12,
   "id": "fec4b062",
   "metadata": {
    "execution": {
     "iopub.execute_input": "2025-06-27T16:06:33.689716Z",
     "iopub.status.busy": "2025-06-27T16:06:33.689252Z",
     "iopub.status.idle": "2025-06-27T16:06:34.237111Z",
     "shell.execute_reply": "2025-06-27T16:06:34.236480Z",
     "shell.execute_reply.started": "2025-06-27T16:06:33.689697Z"
    }
   },
   "outputs": [
    {
     "name": "stdout",
     "output_type": "stream",
     "text": [
      "../../teal/All.msn_psf_reduced.fits\n"
     ]
    }
   ],
   "source": [
    "# REDUCING FILES\n",
    "weighting = 'msn'\n",
    "\n",
    "# PSF\n",
    "reduced_psf_file = f'{datafolder}All.{weighting}_psf_reduced.fits'\n",
    "print(reduced_psf_file)\n",
    "if os.path.exists(reduced_psf_file):\n",
    "    # If the reduced file exist, make sure it contains the appropriate frequencies.\n",
    "    hdu = fits.open(reduced_psf_file)\n",
    "    du = abs(hdu[0].header['CDELT1'])\n",
    "    assert hdu[0].data.shape[0] == spw_range.size\n",
    "    hdu.close()\n",
    "else:\n",
    "    # Else, load full PSF file and reduce\n",
    "    psffile = f'{datafolder}All.{weighting}_psf.fits'\n",
    "    hdu = reduce_file(psffile, spw_range)\n",
    "    du = abs(hdu[0].header['CDELT1'])\n",
    "    npix = hdu[0].data.shape[1]\n",
    "    # Save to new file\n",
    "    hdu.writeto(reduced_psf_file, overwrite=True)\n",
    "    hdu.close()\n",
    "\n",
    "# IMAGE\n",
    "reduced_image_file = f'{datafolder}IM1.{weighting}_image_reduced.fits'\n",
    "if os.path.exists(reduced_image_file):\n",
    "    # If the reduced file exist, make sure it contains the appropriate frequencies.\n",
    "    hdu = fits.open(reduced_image_file)\n",
    "    assert hdu[0].data.shape[0] == spw_range.size\n",
    "    hdu.close()\n",
    "else:\n",
    "    # Else, load full image file and reduce.\n",
    "    imagefile = f'{datafolder}IM1.{weighting}_image.fits' # location of the image file downloaded from SKA SDC3 drive\n",
    "    hdu = reduce_file(imagefile, spw_range)\n",
    "    hdu.writeto(reduced_image_file, overwrite=True)\n",
    "hdu.close()"
   ]
  },
  {
   "cell_type": "markdown",
   "id": "0076f879",
   "metadata": {},
   "source": [
    "We use `ps_eor` to load the reduced PSF and image files and transform them into visibility cubes:"
   ]
  },
  {
   "cell_type": "code",
   "execution_count": 13,
   "id": "83c404e6",
   "metadata": {
    "execution": {
     "iopub.execute_input": "2025-06-27T16:06:36.196777Z",
     "iopub.status.busy": "2025-06-27T16:06:36.196452Z",
     "iopub.status.idle": "2025-06-27T16:07:02.239483Z",
     "shell.execute_reply": "2025-06-27T16:07:02.238852Z",
     "shell.execute_reply.started": "2025-06-27T16:06:36.196759Z"
    }
   },
   "outputs": [
    {
     "name": "stdout",
     "output_type": "stream",
     "text": [
      " Progress: 1 / 1 (Total: 0.00 s) \n",
      " Progress: 1 / 1 (Total: 0.00 s) \n",
      "Filtering 0 modes (0.00 %)\n",
      "Conversion to visibility cube took 0.43 minutes.\n"
     ]
    }
   ],
   "source": [
    "t0 = time.time()\n",
    "w_cube = datacube.CartWeightCube.load_from_fits_image_and_psf(\n",
    "    files=[f'{datafolder}IM1.{weighting}_image_reduced.fits'],\n",
    "    files_psf=[f'{datafolder}All.{weighting}_psf_reduced.fits'],\n",
    "    umin=30,\n",
    "    umax=500,\n",
    "    theta_fov=np.radians(4.),\n",
    "    int_time=int_time.to(units.s).value,\n",
    "    total_time=total_time.to(units.s).value,\n",
    "    use_wscnormf=False, # use pSF and not WSCNORMF to normalise the visibilities\n",
    "    window_function=datacube.WindowFunction('boxcar')\n",
    ")\n",
    "t1 = time.time()\n",
    "print(f'Conversion to visibility cube took {(t1-t0)/60.:.2f} minutes.')"
   ]
  },
  {
   "cell_type": "markdown",
   "id": "3a035e3d",
   "metadata": {},
   "source": [
    "## Power spectra"
   ]
  },
  {
   "cell_type": "markdown",
   "id": "c464b8f6",
   "metadata": {},
   "source": [
    "Here, we compute the power spectrum from the image cube IM1 and the PSF with `ps_eor`."
   ]
  },
  {
   "cell_type": "code",
   "execution_count": 14,
   "id": "3829ac91",
   "metadata": {
    "execution": {
     "iopub.execute_input": "2025-06-27T16:07:09.067468Z",
     "iopub.status.busy": "2025-06-27T16:07:09.067184Z",
     "iopub.status.idle": "2025-06-27T16:07:10.075207Z",
     "shell.execute_reply": "2025-06-27T16:07:10.074692Z",
     "shell.execute_reply.started": "2025-06-27T16:07:09.067452Z"
    }
   },
   "outputs": [
    {
     "name": "stderr",
     "output_type": "stream",
     "text": [
      "/arc/home/alegre/.local/lib/python3.11/site-packages/ps_eor/psutil.py:1124: RuntimeWarning: divide by zero encountered in divide\n",
      "  beam = (2 / np.pi * fwhm / thetas * bessel_j1(np.pi * thetas / fwhm)) ** 2\n",
      "/arc/home/alegre/.local/lib/python3.11/site-packages/ps_eor/psutil.py:1124: RuntimeWarning: invalid value encountered in multiply\n",
      "  beam = (2 / np.pi * fwhm / thetas * bessel_j1(np.pi * thetas / fwhm)) ** 2\n"
     ]
    },
    {
     "data": {
      "image/png": "[encoded data removed]",
      "text/plain": [
       "<Figure size 640x480 with 2 Axes>"
      ]
     },
     "metadata": {},
     "output_type": "display_data"
    }
   ],
   "source": [
    "# Create a Cylindrically averaged PS and plot\n",
    "ps_gen_sq = get_ps_gen_square(w_cube, fmin, primary_beam='ska_low', window_fct='hann', ft_method='nudft', rmean_freqs=False)\n",
    "ps2d = set_kpar_max(ps_gen_sq.get_ps2d(w_cube))\n",
    "\n",
    "plot_ps2d(\n",
    "        ps2d.data, \n",
    "        kperp_bins, kpara_bins,\n",
    "        cmap='Spectral_r', norm=colors.LogNorm(vmin=7e-3, vmax=7e-1), little_h=True,\n",
    "        label=r'$P(k_\\perp, k_\\parallel)\\, [\\mathrm{K}^2 h^{-3} \\mathrm{Mpc}^3]$'\n",
    ")"
   ]
  },
  {
   "cell_type": "code",
   "execution_count": null,
   "id": "4d2e28d1-fd71-4475-98c6-1e9e39cb98fc",
   "metadata": {},
   "outputs": [],
   "source": []
  }
 ],
 "metadata": {
  "kernelspec": {
   "display_name": "Python 3 (ipykernel)",
   "language": "python",
   "name": "python3"
  },
  "language_info": {
   "codemirror_mode": {
    "name": "ipython",
    "version": 3
   },
   "file_extension": ".py",
   "mimetype": "text/x-python",
   "name": "python",
   "nbconvert_exporter": "python",
   "pygments_lexer": "ipython3",
   "version": "3.11.6"
  },
  "toc": {
   "base_numbering": 1,
   "nav_menu": {},
   "number_sections": true,
   "sideBar": true,
   "skip_h1_title": false,
   "title_cell": "Table of Contents",
   "title_sidebar": "Contents",
   "toc_cell": false,
   "toc_position": {},
   "toc_section_display": true,
   "toc_window_display": true
  }
 },
 "nbformat": 4,
 "nbformat_minor": 5
}
